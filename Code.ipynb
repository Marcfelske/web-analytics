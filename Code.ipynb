{
 "cells": [
  {
   "cell_type": "markdown",
   "metadata": {
    "colab_type": "text",
    "id": "Fy0rlvWMqtRN"
   },
   "source": [
    "# Install requirements via pip etc."
   ]
  },
  {
   "cell_type": "code",
   "execution_count": null,
   "metadata": {
    "colab": {
     "base_uri": "https://localhost:8080/",
     "height": 165
    },
    "colab_type": "code",
    "executionInfo": {
     "elapsed": 10128,
     "status": "ok",
     "timestamp": 1553113226346,
     "user": {
      "displayName": "DISPLAYNAME",
      "photoUrl": "PHOTOURL",
      "userId": "USERID"
     },
     "user_tz": 0
    },
    "id": "bNE7shNtSUEH",
    "outputId": "113d0a8b-1895-4963-c9d8-616a29b901a7"
   },
   "outputs": [],
   "source": [
    "run_in = 'local'\n",
    "#run_in = 'colab'\n",
    "\n",
    "if run_in == 'local':\n",
    "    import pandas as pd\n",
    "    import os\n",
    "    import bs4 as BeautifulSoup\n",
    "    import requests\n",
    "    import json\n",
    "    import numpy as np\n",
    "    from urllib.parse import urlparse\n",
    "    import pprint\n",
    "    pp = pprint.PrettyPrinter(indent=4)\n",
    "    import html2text as html2text\n",
    "    import datetime\n",
    "    import re\n",
    "    from lxml import html\n",
    "      \n",
    "if run_in == 'colab':\n",
    "    !pip install beautifulsoup4\n",
    "    !pip install requests\n",
    "    !pip install html2text\n",
    "    import pandas as pd\n",
    "    import os\n",
    "    import bs4 as BeautifulSoup\n",
    "    import requests\n",
    "    import json\n",
    "    import numpy as np\n",
    "    from urllib.parse import urlparse\n",
    "    import pprint\n",
    "    pp = pprint.PrettyPrinter(indent=4)\n",
    "    import html2text as html2text\n",
    "    import datetime\n",
    "    import re\n",
    "    from lxml import html"
   ]
  },
  {
   "cell_type": "code",
   "execution_count": null,
   "metadata": {
    "colab": {
     "base_uri": "https://localhost:8080/",
     "height": 68
    },
    "colab_type": "code",
    "executionInfo": {
     "elapsed": 10113,
     "status": "ok",
     "timestamp": 1553113226349,
     "user": {
      "displayName": "DISPLAYNAME",
      "photoUrl": "PHOTOURL",
      "userId": "USERID"
     },
     "user_tz": 0
    },
    "id": "BwKSzqu-D4v4",
    "outputId": "27849fe1-1d85-455c-e03e-aba95eab06f7"
   },
   "outputs": [],
   "source": [
    "if run_in == 'local':\n",
    "  base_path = \"/users/USERNAME/Google Drive/USERNAME/\"\n",
    "if run_in == 'colab':\n",
    "  #base_path = \"/content/drive/My Drive/USERNAME/\"\n",
    "  base_path = \"/content/drive/My Drive/USERNAME/\"\n",
    "  from google.colab import drive\n",
    "  drive.mount('/content/drive')\n",
    "  \n",
    "print('base_path set to:')\n",
    "print(base_path)"
   ]
  },
  {
   "cell_type": "markdown",
   "metadata": {
    "colab_type": "text",
    "id": "wJCxqjkCeWli"
   },
   "source": [
    "##<p><font color=\"red\">Define Version number!</font></p>"
   ]
  },
  {
   "cell_type": "code",
   "execution_count": null,
   "metadata": {
    "colab": {},
    "colab_type": "code",
    "id": "rhFrGNyZeVQy"
   },
   "outputs": [],
   "source": [
    "version_id = 'V14'"
   ]
  },
  {
   "cell_type": "markdown",
   "metadata": {
    "colab_type": "text",
    "id": "Jiqd3HDVrKHR"
   },
   "source": [
    "### Check that we can access the GDrive and your personal folder\n",
    "\n",
    "Make sure that we can see the two things:\n",
    "1. A file called startups.csv with one column that lists all the twitter handles\n",
    "2. A folder called 'outputs' in which this script will store all results and log files"
   ]
  },
  {
   "cell_type": "code",
   "execution_count": null,
   "metadata": {
    "colab": {
     "base_uri": "https://localhost:8080/",
     "height": 119
    },
    "colab_type": "code",
    "executionInfo": {
     "elapsed": 10097,
     "status": "ok",
     "timestamp": 1553113226355,
     "user": {
      "displayName": "DISPLAYNAME",
      "photoUrl": "PHOTOURL",
      "userId": "USERID"
     },
     "user_tz": 0
    },
    "id": "SbSSR-cLrNzL",
    "outputId": "7108ffa7-c726-4bb1-e1d1-b122f123c924"
   },
   "outputs": [],
   "source": [
    "os.listdir(base_path)"
   ]
  },
  {
   "cell_type": "markdown",
   "metadata": {
    "colab_type": "text",
    "id": "_UWOqiy-e_fe"
   },
   "source": []
  },
  {
   "cell_type": "markdown",
   "metadata": {
    "colab_type": "text",
    "id": "2Q_HsIdUs8hm"
   },
   "source": [
    "###Read all start-ups and their website URLs"
   ]
  },
  {
   "cell_type": "code",
   "execution_count": null,
   "metadata": {
    "colab": {
     "base_uri": "https://localhost:8080/",
     "height": 669
    },
    "colab_type": "code",
    "executionInfo": {
     "elapsed": 11689,
     "status": "ok",
     "timestamp": 1553113227960,
     "user": {
      "displayName": "DISPLAYNAME",
      "photoUrl": "PHOTOURL",
      "userId": "USERID"
     },
     "user_tz": 0
    },
    "id": "zsKD6xhXs7kJ",
    "outputId": "a59a28c9-eae8-4cae-a9dc-6d84e9030db0"
   },
   "outputs": [],
   "source": [
    "df_domain_dict = pd.read_excel(base_path + \"Pitchbook_Crunchbase_Tracxn_Raw/Don't touch \" + version_id + \"/\" + version_id + \".xlsx\", version_id + \"website_url_scrape\", header=None, skiprows=1, names=['company_name','domain'], usecols=\"A,B\")\n",
    "#df_domain_dict = df_domain_dict[-20:]\n",
    "df_domain_dict[:10]"
   ]
  },
  {
   "cell_type": "code",
   "execution_count": null,
   "metadata": {
    "colab": {
     "base_uri": "https://localhost:8080/",
     "height": 34
    },
    "colab_type": "code",
    "executionInfo": {
     "elapsed": 11678,
     "status": "ok",
     "timestamp": 1553113227962,
     "user": {
      "displayName": "DISPLAYNAME",
      "photoUrl": "PHOTOURL",
      "userId": "USERID"
     },
     "user_tz": 0
    },
    "id": "5iy-1hHqP4X1",
    "outputId": "829abf25-501a-4bef-d1f6-84d206ec5a3f"
   },
   "outputs": [],
   "source": [
    "df_domain_dict.shape"
   ]
  },
  {
   "cell_type": "code",
   "execution_count": null,
   "metadata": {
    "colab": {},
    "colab_type": "code",
    "id": "KE9tPcrYv9NC"
   },
   "outputs": [],
   "source": [
    "df_domain_dict = df_domain_dict[df_domain_dict.domain != 'NotFunctioning']\n",
    "df_domain_dict = df_domain_dict.drop_duplicates('domain')"
   ]
  },
  {
   "cell_type": "code",
   "execution_count": null,
   "metadata": {
    "colab": {
     "base_uri": "https://localhost:8080/",
     "height": 91
    },
    "colab_type": "code",
    "executionInfo": {
     "elapsed": 11665,
     "status": "ok",
     "timestamp": 1553113227969,
     "user": {
      "displayName": "DISPLAYNAME",
      "photoUrl": "PHOTOURL",
      "userId": "USERID"
     },
     "user_tz": 0
    },
    "id": "XZLvdfaDREC4",
    "outputId": "cb43316c-295f-4473-ceea-d450a1023c6a"
   },
   "outputs": [],
   "source": [
    "companies = df_domain_dict[\"company_name\"]\n",
    "domains = df_domain_dict[\"domain\"]\n",
    "\n",
    "company2domain = {}\n",
    "domain2company = {}\n",
    "for company_name, domain in zip(companies,domains):\n",
    "    company2domain[company_name] = domain\n",
    "    domain2company[domain] = company_name\n",
    "    \n",
    "print(company2domain)\n",
    "print(domain2company)"
   ]
  },
  {
   "cell_type": "markdown",
   "metadata": {
    "colab_type": "text",
    "id": "cbB6czB72Bpq"
   },
   "source": [
    "###Check for duplicates"
   ]
  },
  {
   "cell_type": "code",
   "execution_count": null,
   "metadata": {
    "colab": {
     "base_uri": "https://localhost:8080/",
     "height": 68
    },
    "colab_type": "code",
    "executionInfo": {
     "elapsed": 11655,
     "status": "ok",
     "timestamp": 1553113227972,
     "user": {
      "displayName": "DISPLAYNAME",
      "photoUrl": "PHOTOURL",
      "userId": "USERID"
     },
     "user_tz": 0
    },
    "id": "l7jMVZEUTDoa",
    "outputId": "b643d705-16de-45c4-bbaa-43a7967ac9e7"
   },
   "outputs": [],
   "source": [
    "duplicate_domains = df_domain_dict[df_domain_dict.duplicated()]\n",
    "print(duplicate_domains)"
   ]
  },
  {
   "cell_type": "code",
   "execution_count": null,
   "metadata": {
    "colab": {
     "base_uri": "https://localhost:8080/",
     "height": 74
    },
    "colab_type": "code",
    "executionInfo": {
     "elapsed": 11647,
     "status": "ok",
     "timestamp": 1553113227974,
     "user": {
      "displayName": "DISPLAYNAME",
      "photoUrl": "PHOTOURL",
      "userId": "USERID"
     },
     "user_tz": 0
    },
    "id": "0MEnl8Zi4jTF",
    "outputId": "51c2167f-75fd-438e-f624-499b10c830e4"
   },
   "outputs": [],
   "source": [
    "list_of_domains = df_domain_dict['domain'].values.tolist()\n",
    "print(list_of_domains)\n",
    "\n",
    "\n",
    "#list_of_domains = ['prowler.io', 'google.com','basdlkf.com']\n",
    "#print(list_of_domains)"
   ]
  },
  {
   "cell_type": "code",
   "execution_count": null,
   "metadata": {
    "colab": {
     "base_uri": "https://localhost:8080/",
     "height": 357
    },
    "colab_type": "code",
    "executionInfo": {
     "elapsed": 11635,
     "status": "ok",
     "timestamp": 1553113227976,
     "user": {
      "displayName": "DISPLAYNAME",
      "photoUrl": "PHOTOURL",
      "userId": "USERID"
     },
     "user_tz": 0
    },
    "id": "-gYNOSYZURAJ",
    "outputId": "cd2bb922-619e-4b24-d8cd-6618c85967a3"
   },
   "outputs": [],
   "source": [
    "for key in company2domain:\n",
    "  print(key)"
   ]
  },
  {
   "cell_type": "code",
   "execution_count": null,
   "metadata": {
    "colab": {
     "base_uri": "https://localhost:8080/",
     "height": 462
    },
    "colab_type": "code",
    "executionInfo": {
     "elapsed": 31110,
     "status": "ok",
     "timestamp": 1553113247493,
     "user": {
      "displayName": "DISPLAYNAME",
      "photoUrl": "PHOTOURL",
      "userId": "USERID"
     },
     "user_tz": 0
    },
    "id": "oF0ceuHQvm5t",
    "outputId": "2933c16b-9037-4e8d-bf29-bb8c99f4a851"
   },
   "outputs": [],
   "source": [
    "list_of_scrapable_domains = []\n",
    "list_of_broken_domains = []\n",
    "\n",
    "print('\\033[1m' + 'request status_codes:' '\\033[0m')\n",
    "\n",
    "result_dictionary = {}\n",
    "\n",
    "for k in list_of_domains[:]:\n",
    "   \n",
    "    try:\n",
    "        result = requests.get('http://' + k)\n",
    "        print(result)\n",
    "        if result.status_code == 200:\n",
    "            print('http://' + str(k) + ' is ' + str(result.status_code) + ' therefore ' + '\\033[1m' + str(k) + '\\033[0m' + ' is added to list_of_scrapable_domains')\n",
    "            list_of_scrapable_domains.append(k)\n",
    "\n",
    "            companyname = domain2company[k]\n",
    "            global_pagerank = []\n",
    "            inbound_links = []\n",
    "            top_search_keywords = []\n",
    "\n",
    "            source = requests.get('https://www.alexa.com/siteinfo/' + k)\n",
    "            html_content = source.text     \n",
    "\n",
    "            # find global_pagerank\n",
    "            pattern_global_pagerank = re.compile(r'(?<=\\\"global\\\":)(.*)(?=},)')\n",
    "            matches_global_pagerank = pattern_global_pagerank.finditer(html_content)\n",
    "            for match in matches_global_pagerank:\n",
    "              if match.group(0).replace(',', '') == \"false\":\n",
    "                global_pagerank.append(np.nan)\n",
    "              else:\n",
    "                global_pagerank.append(int(match.group(0).replace(',', '')))\n",
    "\n",
    "\n",
    "            # findinbound_links\n",
    "            pattern_inbound_links = re.compile(r'(?<=box1-r\\\">)(.*)(?=</span>)')\n",
    "            matches_inbound_links = pattern_inbound_links.finditer(html_content)\n",
    "            for match in matches_inbound_links:\n",
    "              if match.group(0).replace(',', '') == \"false\":\n",
    "                inbound_links.append(np.nan)\n",
    "              else:\n",
    "                inbound_links.append(int(match.group(0).replace(',', '')))\n",
    "\n",
    "            # find top_search_keywords\n",
    "            pattern_top_search_keywords = re.compile(r\"(?<=llipsis\\' title=\\')(.*)(?=\\'><span)\")\n",
    "            matches_top_search_keywords = pattern_top_search_keywords.finditer(html_content)\n",
    "            for match in matches_top_search_keywords:\n",
    "              top_search_keywords.append(match.group(0))\n",
    "\n",
    "\n",
    "            webscrape_domain = {\n",
    "            'domain': k,\n",
    "            'global_pagerank': global_pagerank,\n",
    "            'inbound_links': inbound_links,\n",
    "            'top_search_keywords':top_search_keywords\n",
    "            }\n",
    "            result_dictionary[companyname] = webscrape_domain\n",
    "\n",
    "        else:\n",
    "             print(str(k) + ' is ' + str(result.status_code))\n",
    "             list_of_broken_domains.append(k)\n",
    "    except: # requests.exceptions.ConnectionError:\n",
    "        print(\"Connection refused by\" + str(k))\n",
    "        list_of_broken_domains.append(k)\n",
    "\n",
    "print('\\n' '\\033[1m' + 'list_of_scrapable_domains:' '\\033[0m', end =' ')\n",
    "print(str(list_of_scrapable_domains) + '\\n')    \n",
    "\n",
    "print('\\033[1m' + 'list_of_broken_domains:' '\\033[0m', end =\" \")\n",
    "print(list_of_broken_domains)"
   ]
  },
  {
   "cell_type": "code",
   "execution_count": null,
   "metadata": {
    "colab": {
     "base_uri": "https://localhost:8080/",
     "height": 2057
    },
    "colab_type": "code",
    "executionInfo": {
     "elapsed": 31102,
     "status": "ok",
     "timestamp": 1553113247495,
     "user": {
      "displayName": "DISPLAYNAME",
      "photoUrl": "PHOTOURL",
      "userId": "USERID"
     },
     "user_tz": 0
    },
    "id": "j-Sh6P-VaF_Z",
    "outputId": "b9e5a70f-5829-4109-e1fe-ffac40183c47"
   },
   "outputs": [],
   "source": [
    "pp.pprint(result_dictionary)"
   ]
  },
  {
   "cell_type": "code",
   "execution_count": null,
   "metadata": {
    "colab": {},
    "colab_type": "code",
    "id": "Sj-c8D7mP4Yc"
   },
   "outputs": [],
   "source": [
    "with open(base_path + 'outputs/Alexa Page Rank/page_ranks.json', \"w\", encoding='utf8') as result_file:\n",
    "    #result_file.write(str(result_dictionary))\n",
    "    json.dump(result_dictionary, result_file, sort_keys=True, indent=4)\n",
    "\n",
    "with open(base_path + 'outputs/Alexa Page Rank/broken_website_links.txt', \"w\", encoding='utf8') as broken_links_file:\n",
    "    broken_links_file.writelines([\"%s\\n\" % result for result in list_of_broken_domains])"
   ]
  },
  {
   "cell_type": "code",
   "execution_count": null,
   "metadata": {},
   "outputs": [],
   "source": []
  }
 ],
 "metadata": {
  "colab": {
   "collapsed_sections": [],
   "name": "2019-03-20 Alexa Page Rank Scraper.ipynb",
   "provenance": [
    {
     "file_id": "1jhSTZmSaaeouTKvAf6OqXcQeSxpMonjZ",
     "timestamp": 1553093129102
    },
    {
     "file_id": "1Noe7Vp1LWwoA6p_XC_c1CCjMRZK9TE3y",
     "timestamp": 1552668421279
    },
    {
     "file_id": "1zTGkcGH53MctKn0WEg8xWWgtVC3YPC2e",
     "timestamp": 1548594951448
    },
    {
     "file_id": "1ndnlKhyrGpbBVLdYciV3oWY2jjM3LV1Q",
     "timestamp": 1548426927957
    },
    {
     "file_id": "1M4kNcYoAprVF3baUemodmE6_xBZfxcyJ",
     "timestamp": 1543338066712
    },
    {
     "file_id": "14zx_Z_Dr0bctdffrbq54mG1y4s5wFY2m",
     "timestamp": 1542796671668
    },
    {
     "file_id": "1KQt0THO6EA2fW0iQWHtF2oPCUuxUw70E",
     "timestamp": 1542744417484
    }
   ],
   "version": "0.3.2"
  },
  "kernelspec": {
   "display_name": "Python 3",
   "language": "python",
   "name": "python3"
  },
  "language_info": {
   "codemirror_mode": {
    "name": "ipython",
    "version": 3
   },
   "file_extension": ".py",
   "mimetype": "text/x-python",
   "name": "python",
   "nbconvert_exporter": "python",
   "pygments_lexer": "ipython3",
   "version": "3.6.5"
  }
 },
 "nbformat": 4,
 "nbformat_minor": 1
}
